{
 "cells": [
  {
   "cell_type": "code",
   "execution_count": null,
   "id": "96137545-1d31-47d9-8104-1d6b130388e4",
   "metadata": {
    "id": "96137545-1d31-47d9-8104-1d6b130388e4"
   },
   "outputs": [],
   "source": [
    "import pandas as pd\n",
    "import matplotlib.pyplot as plt\n",
    "import numpy as np\n",
    "import colorsys"
   ]
  },
  {
   "cell_type": "code",
   "execution_count": null,
   "id": "b8ebdcd4-8f05-4c12-a7ac-ff491f59808d",
   "metadata": {
    "id": "b8ebdcd4-8f05-4c12-a7ac-ff491f59808d"
   },
   "outputs": [],
   "source": [
    "class Process:\n",
    "    def __init__(self, pid, arrival_time, burst_time, priority = 0):\n",
    "        self.pid = pid\n",
    "        self.arrival_time = arrival_time\n",
    "        self.burst_time = burst_time\n",
    "        self.remaining_time = burst_time\n",
    "        self.completion_time = 0\n",
    "        self.turnaround_time = 0\n",
    "        self.waiting_time = 0\n",
    "        self.response_time = -1\n",
    "        self.processed_time = 0\n",
    "        self.priority = priority"
   ]
  },
  {
   "cell_type": "code",
   "execution_count": null,
   "id": "4364621f-8129-49b7-8e0d-35ead7fa2f69",
   "metadata": {
    "id": "4364621f-8129-49b7-8e0d-35ead7fa2f69"
   },
   "outputs": [],
   "source": [
    "processes = [\n",
    "    Process(1, 1, 6, 3),\n",
    "    Process(2, 7, 10, 2),\n",
    "    Process(3, 9, 2, 4),\n",
    "    Process(4, 25, 3, 1)\n",
    "]"
   ]
  },
  {
   "cell_type": "markdown",
   "id": "b8fffa40-2c4f-4147-9286-84c5523cd23e",
   "metadata": {
    "id": "b8fffa40-2c4f-4147-9286-84c5523cd23e"
   },
   "source": [
    "# ***Algorithms***"
   ]
  },
  {
   "cell_type": "markdown",
   "id": "22386561-b60d-4c9b-8951-dd9a1d5abac0",
   "metadata": {
    "id": "59d0b021-121d-4b76-8f0b-66cf71bcb884"
   },
   "source": [
    "### **1.** *FCFS*"
   ]
  },
  {
   "cell_type": "code",
   "execution_count": null,
   "id": "83553530-06f8-43fe-a1ab-a1b9ffaad818",
   "metadata": {
    "id": "83553530-06f8-43fe-a1ab-a1b9ffaad818"
   },
   "outputs": [],
   "source": [
    "fcfs_chart = []\n",
    "\n",
    "def FCFS(processes, context_switch):\n",
    "    time = 0\n",
    "\n",
    "    processes.sort(key=lambda x: x.arrival_time)\n",
    "    \n",
    "    for process in processes:\n",
    "        if time < process.arrival_time:\n",
    "            time = process.arrival_time\n",
    "\n",
    "        if(len(fcfs_chart)):\n",
    "            time += context_switch / 2\n",
    "            \n",
    "        process.waiting_time = time - process.arrival_time\n",
    "        time += process.burst_time\n",
    "        process.completion_time = time\n",
    "        fcfs_chart.append([process.pid, process.completion_time - process.burst_time, process.completion_time])\n",
    "        process.turnaround_time = process.completion_time - process.arrival_time\n",
    "        process.response_time = process.waiting_time\n",
    "        time += context_switch / 2"
   ]
  },
  {
   "cell_type": "markdown",
   "id": "0f6e09ff-ad49-4bf4-b545-0bbb0092bc30",
   "metadata": {
    "id": "0f6e09ff-ad49-4bf4-b545-0bbb0092bc30"
   },
   "source": [
    "#### *Result of FCFS*"
   ]
  },
  {
   "cell_type": "code",
   "execution_count": null,
   "id": "ca8a86e7-ffbc-4230-bff7-2048a0bce2f4",
   "metadata": {
    "id": "ca8a86e7-ffbc-4230-bff7-2048a0bce2f4"
   },
   "outputs": [],
   "source": [
    "def FCFS_Result(processes,context_switch):\n",
    "    FCFS(processes,context_switch)\n",
    "\n",
    "    data = {\n",
    "        'PID': [p.pid for p in processes],\n",
    "        'Arrival Time': [p.arrival_time for p in processes],\n",
    "        'Burst Time': [p.burst_time for p in processes],\n",
    "        'Waiting Time': [p.waiting_time for p in processes],\n",
    "        'Turnaround Time': [p.turnaround_time for p in processes],\n",
    "        'Response Time': [p.response_time for p in processes],\n",
    "        'Completion Time': [p.completion_time for p in processes]\n",
    "    }\n",
    "\n",
    "    df = pd.DataFrame(data)\n",
    "    print(f\"Average_WT is: {df['Waiting Time'].mean()}\")\n",
    "    print(f\"Average_RT is: {df['Response Time'].mean()}\")\n",
    "    print(f\"Average_TT is: {df['Turnaround Time'].mean()}\")\n",
    "\n",
    "    return df"
   ]
  },
  {
   "cell_type": "code",
   "execution_count": null,
   "id": "9073c803-ba73-41bc-8625-83e57ab58231",
   "metadata": {
    "colab": {
     "base_uri": "https://localhost:8080/"
    },
    "id": "9073c803-ba73-41bc-8625-83e57ab58231",
    "outputId": "66ea28fd-9aa1-4f9a-ac9d-ba92b8ddac7a"
   },
   "outputs": [],
   "source": [
    "processes = [\n",
    "    Process(1, 1, 6),\n",
    "    Process(2, 7, 10),\n",
    "    Process(3, 9, 2),\n",
    "    Process(4, 25, 3)\n",
    "]\n",
    "fcfs_df = FCFS_Result(processes,2)\n",
    "x_max = fcfs_df['Completion Time'].max()"
   ]
  },
  {
   "cell_type": "code",
   "execution_count": null,
   "id": "4ee03a16-0f64-4601-b29f-fc8d98303292",
   "metadata": {},
   "outputs": [],
   "source": [
    "fcfs_df"
   ]
  },
  {
   "cell_type": "code",
   "execution_count": null,
   "id": "Js9oZZo0HTAM",
   "metadata": {
    "colab": {
     "base_uri": "https://localhost:8080/",
     "height": 607
    },
    "id": "Js9oZZo0HTAM",
    "outputId": "aa558b23-a3a9-4f21-c60a-63973fde5df9"
   },
   "outputs": [],
   "source": [
    "# Gantt chart\n",
    "\n",
    "fig, ax = plt.subplots(figsize=(10, 6))\n",
    "\n",
    "for task in fcfs_chart:\n",
    "    y = task[0]\n",
    "    start_time = task[1]\n",
    "    end_time = task[2]\n",
    "    ax.barh(y, end_time - start_time, left=start_time, height=0.5)\n",
    "\n",
    "ax.set_xlabel('Time')\n",
    "ax.set_ylabel('Process')\n",
    "ax.set_title('FCFS')\n",
    "\n",
    "# x-axis range\n",
    "ax.set_xlim(0, x_max)\n",
    "\n",
    "# Add gridlines for every time slice (every unit on the x-axis)\n",
    "ax.xaxis.set_major_locator(plt.MultipleLocator(1))\n",
    "ax.grid(True, axis='x', linestyle='--', linewidth=0.7)\n",
    "\n",
    "plt.tight_layout()\n",
    "plt.show()"
   ]
  },
  {
   "cell_type": "markdown",
   "id": "54c6676d-dd84-4d86-bfe9-19e5af722514",
   "metadata": {
    "id": "54c6676d-dd84-4d86-bfe9-19e5af722514"
   },
   "source": [
    "### **2.** *SPN*"
   ]
  },
  {
   "cell_type": "code",
   "execution_count": null,
   "id": "e9a9c544-8987-4d12-bc76-1a613033f317",
   "metadata": {
    "id": "e9a9c544-8987-4d12-bc76-1a613033f317"
   },
   "outputs": [],
   "source": [
    "spn_chart = []\n",
    "def SPN(processes, context_switch):\n",
    "    time = 0\n",
    "    remaining_processes = processes.copy()\n",
    "    while remaining_processes:\n",
    "        ready_queue = [p for p in remaining_processes if p.arrival_time <= time]\n",
    "        if not ready_queue:\n",
    "            time += 1\n",
    "            continue\n",
    "\n",
    "\n",
    "        ready_queue.sort(key=lambda x: x.burst_time)  # Sort by burst time (shortest first)\n",
    "        process = ready_queue.pop(0)\n",
    "\n",
    "        if(len(spn_chart)):\n",
    "            time += context_switch / 2\n",
    "\n",
    "        process.waiting_time = time - process.arrival_time\n",
    "        time += process.burst_time\n",
    "        process.completion_time = time\n",
    "        process.turnaround_time = process.completion_time - process.arrival_time\n",
    "        process.response_time = process.waiting_time\n",
    "        #print(f\"T{time} : P{process.pid} : R{process.completion_time} : Q{len(ready_queue)}\")\n",
    "\n",
    "        remaining_processes.remove(process)\n",
    "        spn_chart.append([process.pid, process.completion_time - process.burst_time, process.completion_time])\n",
    "        time += context_switch / 2\n"
   ]
  },
  {
   "cell_type": "markdown",
   "id": "44be44e7-9a3a-4c1c-ae02-c1a65ff87749",
   "metadata": {
    "id": "44be44e7-9a3a-4c1c-ae02-c1a65ff87749"
   },
   "source": [
    "#### Result of algorithm"
   ]
  },
  {
   "cell_type": "code",
   "execution_count": null,
   "id": "9f7475b9-62f1-4ace-882a-689197a92979",
   "metadata": {
    "id": "9f7475b9-62f1-4ace-882a-689197a92979"
   },
   "outputs": [],
   "source": [
    "def SPN_Result(processes,context_switch):\n",
    "    SPN(processes,context_switch)\n",
    "\n",
    "    data = {\n",
    "        'PID': [p.pid for p in processes],\n",
    "        'Arrival Time': [p.arrival_time for p in processes],\n",
    "        'Burst Time': [p.burst_time for p in processes],\n",
    "        'Waiting Time': [p.waiting_time for p in processes],\n",
    "        'Turnaround Time': [p.turnaround_time for p in processes],\n",
    "        'Response Time': [p.response_time for p in processes],\n",
    "        'Completion Time': [p.completion_time for p in processes]\n",
    "    }\n",
    "\n",
    "    df = pd.DataFrame(data)\n",
    "\n",
    "    print(f\"Average_WT is: {df['Waiting Time'].mean()}\")\n",
    "    print(f\"Average_RT is: {df['Response Time'].mean()}\")\n",
    "    print(f\"Average_TT is: {df['Turnaround Time'].mean()}\")\n",
    "\n",
    "    return df\n"
   ]
  },
  {
   "cell_type": "code",
   "execution_count": null,
   "id": "b12fa618-bc38-4611-a6d6-5967e31b740c",
   "metadata": {
    "colab": {
     "base_uri": "https://localhost:8080/"
    },
    "id": "b12fa618-bc38-4611-a6d6-5967e31b740c",
    "outputId": "f256e5ce-d05e-4745-b966-000acd42ae43"
   },
   "outputs": [],
   "source": [
    "processes = [\n",
    "    Process(1, 1, 6),\n",
    "    Process(2, 7, 10),\n",
    "    Process(3, 9, 2),\n",
    "    Process(4, 25, 3)\n",
    "]\n",
    "\n",
    "df_spn = SPN_Result(processes,2)\n",
    "x_max = df_spn['Completion Time'].max()"
   ]
  },
  {
   "cell_type": "code",
   "execution_count": null,
   "id": "9d95e4a3-5585-4695-8669-1d81f44fdf3f",
   "metadata": {},
   "outputs": [],
   "source": [
    "df_spn"
   ]
  },
  {
   "cell_type": "code",
   "execution_count": null,
   "id": "L1DPfHnaM4bz",
   "metadata": {
    "colab": {
     "base_uri": "https://localhost:8080/",
     "height": 607
    },
    "id": "L1DPfHnaM4bz",
    "outputId": "b5eff309-197a-453c-c6f2-d047f7b1da56"
   },
   "outputs": [],
   "source": [
    "fig, ax = plt.subplots(figsize=(10, 6))\n",
    "\n",
    "for task in spn_chart:\n",
    "    y = task[0]\n",
    "    start_time = task[1]\n",
    "    end_time = task[2]\n",
    "    ax.barh(y, end_time - start_time, left=start_time, height=0.5)\n",
    "\n",
    "ax.set_xlabel('Time')\n",
    "ax.set_ylabel('Process')\n",
    "ax.set_title('SPN')\n",
    "\n",
    "ax.set_xlim(0, x_max)\n",
    "\n",
    "ax.xaxis.set_major_locator(plt.MultipleLocator(1))\n",
    "ax.grid(True, axis='x', linestyle='--', linewidth=0.7)\n",
    "\n",
    "plt.tight_layout()\n",
    "plt.show()"
   ]
  },
  {
   "cell_type": "markdown",
   "id": "ea082beb-d2d8-45b0-a2f3-c8bb5d091f3f",
   "metadata": {
    "id": "ea082beb-d2d8-45b0-a2f3-c8bb5d091f3f",
    "jp-MarkdownHeadingCollapsed": true
   },
   "source": [
    "### **3.** *HRRN*"
   ]
  },
  {
   "cell_type": "code",
   "execution_count": null,
   "id": "3e345e94-af22-423d-8344-75869340f466",
   "metadata": {
    "id": "3e345e94-af22-423d-8344-75869340f466"
   },
   "outputs": [],
   "source": [
    "hrrn_chart = []\n",
    "\n",
    "def HRRN(processes, context_switch):\n",
    "    time = 0\n",
    "    remaining_processes = processes.copy()\n",
    "    while remaining_processes:\n",
    "        ready_queue = [p for p in remaining_processes if p.arrival_time <= time]\n",
    "        if not ready_queue:\n",
    "            time += 1\n",
    "            continue\n",
    "        for p in ready_queue:\n",
    "            p.waiting_time = time - p.arrival_time\n",
    "            p.response_ratio = p.waiting_time / p.burst_time\n",
    "\n",
    "        ready_queue.sort(key=lambda x: x.response_ratio, reverse=True)\n",
    "        process = ready_queue.pop(0)\n",
    "\n",
    "        if(len(hrrn_chart)):\n",
    "            time += context_switch / 2\n",
    "\n",
    "        process.waiting_time = time - process.arrival_time\n",
    "        time += process.burst_time\n",
    "        process.completion_time = time\n",
    "        process.turnaround_time = process.completion_time - process.arrival_time\n",
    "        process.response_time = process.waiting_time\n",
    "\n",
    "        remaining_processes.remove(process)\n",
    "        hrrn_chart.append([process.pid, process.completion_time - process.burst_time, process.completion_time])\n",
    "        # print(f\"T{time} : P{process.pid} : R{process.remaining_time} : Q{len(ready_queue)}\")\n",
    "        time += context_switch / 2"
   ]
  },
  {
   "cell_type": "markdown",
   "id": "5ae579f4-5fc8-4a2e-881b-cbaa5999ee6d",
   "metadata": {
    "id": "5ae579f4-5fc8-4a2e-881b-cbaa5999ee6d"
   },
   "source": [
    "#### Result of algorithm"
   ]
  },
  {
   "cell_type": "code",
   "execution_count": null,
   "id": "bd3147ae-6aff-426b-b3f6-468624388a0a",
   "metadata": {
    "id": "bd3147ae-6aff-426b-b3f6-468624388a0a"
   },
   "outputs": [],
   "source": [
    "def HRRN_Result(processes, context_switch):\n",
    "    HRRN(processes, context_switch)\n",
    "\n",
    "    data = {\n",
    "        'PID': [p.pid for p in processes],\n",
    "        'Arrival Time': [p.arrival_time for p in processes],\n",
    "        'Burst Time': [p.burst_time for p in processes],\n",
    "        'Waiting Time': [p.waiting_time for p in processes],\n",
    "        'Turnaround Time': [p.turnaround_time for p in processes],\n",
    "        'Response Time': [p.response_time for p in processes],\n",
    "        'Completion Time': [p.completion_time for p in processes]\n",
    "    }\n",
    "\n",
    "    df = pd.DataFrame(data)\n",
    "\n",
    "    print(f\"Average_WT is: {df['Waiting Time'].mean()}\")\n",
    "    print(f\"Average_RT is: {df['Response Time'].mean()}\")\n",
    "    print(f\"Average_TT is: {df['Turnaround Time'].mean()}\")\n",
    "\n",
    "    return df"
   ]
  },
  {
   "cell_type": "code",
   "execution_count": null,
   "id": "89868425-d040-46b7-8f89-c152328955b3",
   "metadata": {
    "colab": {
     "base_uri": "https://localhost:8080/"
    },
    "id": "89868425-d040-46b7-8f89-c152328955b3",
    "outputId": "a77c0030-d016-4ca7-c237-7f9dcab28704"
   },
   "outputs": [],
   "source": [
    "df_hrrn = HRRN_Result(processes, 2)\n",
    "x_max = df_hrrn['Completion Time'].max()"
   ]
  },
  {
   "cell_type": "code",
   "execution_count": null,
   "id": "ced49dc3-54c1-49c8-8996-903a4691e8c7",
   "metadata": {},
   "outputs": [],
   "source": [
    "df_hrrn"
   ]
  },
  {
   "cell_type": "code",
   "execution_count": null,
   "id": "REqdyyxSOKXE",
   "metadata": {
    "colab": {
     "base_uri": "https://localhost:8080/",
     "height": 607
    },
    "id": "REqdyyxSOKXE",
    "outputId": "5886e70e-2f16-428d-c543-5117198da9cf"
   },
   "outputs": [],
   "source": [
    "fig, ax = plt.subplots(figsize=(10, 6))\n",
    "\n",
    "for task in hrrn_chart:\n",
    "    y = task[0]\n",
    "    start_time = task[1]\n",
    "    end_time = task[2]\n",
    "    ax.barh(y, end_time - start_time, left=start_time, height=0.5)\n",
    "\n",
    "ax.set_xlabel('Time')\n",
    "ax.set_ylabel('Process')\n",
    "ax.set_title('HRRN')\n",
    "\n",
    "ax.set_xlim(0, x_max)\n",
    "\n",
    "ax.xaxis.set_major_locator(plt.MultipleLocator(1))\n",
    "ax.grid(True, axis='x', linestyle='--', linewidth=0.7)\n",
    "\n",
    "plt.tight_layout()\n",
    "plt.show()"
   ]
  },
  {
   "cell_type": "markdown",
   "id": "f8c93356-6049-42da-8e6c-2e6f95d36757",
   "metadata": {
    "id": "f8c93356-6049-42da-8e6c-2e6f95d36757"
   },
   "source": [
    "## ***preemptive***"
   ]
  },
  {
   "cell_type": "markdown",
   "id": "3ae7f021-0edd-4e4b-a5d8-7900b40ea18c",
   "metadata": {
    "id": "3ae7f021-0edd-4e4b-a5d8-7900b40ea18c"
   },
   "source": [
    "### **4.** *RR*"
   ]
  },
  {
   "cell_type": "code",
   "execution_count": null,
   "id": "4b306ff6-55f6-49cb-b55d-5ff49d0aa74d",
   "metadata": {
    "id": "4b306ff6-55f6-49cb-b55d-5ff49d0aa74d"
   },
   "outputs": [],
   "source": [
    "rr_chart = []\n",
    "def RR(processes, quantum=5, context_switch=2):\n",
    "    time = 0\n",
    "    remaining_processes = processes.copy()\n",
    "    queue = []\n",
    "    temp_q = None\n",
    "\n",
    "    while remaining_processes or queue or temp_q:\n",
    "\n",
    "        queue += [p for p in remaining_processes if p.arrival_time <= time]\n",
    "        remaining_processes = [p for p in remaining_processes if p.arrival_time > time]\n",
    "        \n",
    "        if temp_q :\n",
    "          queue.append(temp_q)\n",
    "          temp_q = None\n",
    "\n",
    "        if(len(rr_chart)):\n",
    "            time += context_switch / 2\n",
    "            \n",
    "        if queue:\n",
    "            \n",
    "            process = queue.pop(0)\n",
    "         \n",
    "            if process.response_time == -1:\n",
    "                process.response_time = time - process.arrival_time \n",
    "            \n",
    "            if process.remaining_time > quantum:\n",
    "                time += quantum + (context_switch / 2)\n",
    "                rr_chart.append([process.pid, time-quantum-(context_switch/2), time-(context_switch/2)])\n",
    "                process.remaining_time -= quantum\n",
    "                temp_q = process  # Re-add process to the end of queue if not finished (as temp_q)\n",
    "            \n",
    "            else:\n",
    "                time += process.remaining_time + (context_switch / 2) \n",
    "                rr_chart.append([process.pid, time - process.remaining_time-(context_switch/2), time-(context_switch/2)])\n",
    "                process.remaining_time = 0\n",
    "                process.completion_time = time - (context_switch / 2)\n",
    "                process.turnaround_time = process.completion_time - process.arrival_time\n",
    "                process.waiting_time = process.turnaround_time - process.burst_time\n",
    "           # print(f\"T{time} : P{process.pid} : R{process.remaining_time} : Q{len(queue)} : C{len(remaining_processes)} \")\n",
    "\n",
    "        else:\n",
    "            time += 1  "
   ]
  },
  {
   "cell_type": "markdown",
   "id": "5b34c154-33a8-4b4d-a902-7067dd754087",
   "metadata": {
    "id": "5b34c154-33a8-4b4d-a902-7067dd754087"
   },
   "source": [
    "#### Result of algorithm"
   ]
  },
  {
   "cell_type": "code",
   "execution_count": null,
   "id": "b5f86e18-addc-4c84-a3c1-386e421b65eb",
   "metadata": {
    "id": "b5f86e18-addc-4c84-a3c1-386e421b65eb"
   },
   "outputs": [],
   "source": [
    "def RR_Result(processes):\n",
    "    RR(processes)\n",
    "\n",
    "    data = {\n",
    "        'PID': [p.pid for p in processes],\n",
    "        'Arrival Time': [p.arrival_time for p in processes],\n",
    "        'Burst Time': [p.burst_time for p in processes],\n",
    "        'Waiting Time': [p.waiting_time for p in processes],\n",
    "        'Turnaround Time': [p.turnaround_time for p in processes],\n",
    "        'Response Time': [p.response_time for p in processes],\n",
    "        'Completion Time': [p.completion_time for p in processes]\n",
    "    }\n",
    "\n",
    "    df = pd.DataFrame(data)\n",
    "\n",
    "    print(f\"Average_WT is: {df['Waiting Time'].mean()}\")\n",
    "    print(f\"Average_RT is: {df['Response Time'].mean()}\")\n",
    "    print(f\"Average_TT is: {df['Turnaround Time'].mean()}\")\n",
    "\n",
    "    return df"
   ]
  },
  {
   "cell_type": "code",
   "execution_count": null,
   "id": "2c8972c9-2b64-4970-9dfa-27ad66fc2045",
   "metadata": {
    "colab": {
     "base_uri": "https://localhost:8080/"
    },
    "id": "2c8972c9-2b64-4970-9dfa-27ad66fc2045",
    "outputId": "bb96ce4d-7989-458a-d6a8-cdc2e63fc392"
   },
   "outputs": [],
   "source": [
    "processes = [\n",
    "    Process(1, 1, 6),\n",
    "    Process(2, 7, 10),\n",
    "    Process(3, 9, 2),\n",
    "    Process(4, 25, 3)\n",
    "]\n",
    "\n",
    "df_rr = RR_Result(processes)\n",
    "x_max = df_rr['Completion Time'].max()\n",
    "y_max = df_rr['PID'].max()"
   ]
  },
  {
   "cell_type": "code",
   "execution_count": null,
   "id": "aab6728f-9483-40da-b602-47afcf9f6fe9",
   "metadata": {},
   "outputs": [],
   "source": [
    "df_rr"
   ]
  },
  {
   "cell_type": "code",
   "execution_count": null,
   "id": "RmavgmGfW2Lr",
   "metadata": {
    "id": "RmavgmGfW2Lr"
   },
   "outputs": [],
   "source": [
    "def get_process_color(pid, total_processes):\n",
    "    golden_ratio = (1 + 5 ** 0.5) / 2\n",
    "    hue = (pid * golden_ratio) % 1\n",
    "    return colorsys.hsv_to_rgb(hue, 0.8, 0.9)"
   ]
  },
  {
   "cell_type": "code",
   "execution_count": null,
   "id": "eoNGeiRac1ka",
   "metadata": {
    "colab": {
     "base_uri": "https://localhost:8080/",
     "height": 607
    },
    "id": "eoNGeiRac1ka",
    "outputId": "74657677-9f8f-41b9-84d0-8a9178fbde1f"
   },
   "outputs": [],
   "source": [
    "fig, ax = plt.subplots(figsize=(15, 6))\n",
    "\n",
    "for task in rr_chart:\n",
    "    y = task[0]\n",
    "    start_time = task[1]\n",
    "    end_time = task[2]\n",
    "    color = get_process_color(y, y_max)\n",
    "    ax.barh(y, end_time - start_time, left=start_time, height=0.5, color=color)\n",
    "\n",
    "ax.set_xlabel('Time')\n",
    "ax.set_ylabel('Process')\n",
    "ax.set_title('RR')\n",
    "\n",
    "ax.set_xlim(0, x_max)\n",
    "\n",
    "ax.xaxis.set_major_locator(plt.MultipleLocator(1))\n",
    "ax.grid(True, axis='x', linestyle=':', linewidth=0.7)\n",
    "\n",
    "plt.tight_layout()\n",
    "plt.show()"
   ]
  },
  {
   "cell_type": "markdown",
   "id": "6c845650-b2d1-4ee1-83f3-7d736ddbe7bc",
   "metadata": {
    "id": "6c845650-b2d1-4ee1-83f3-7d736ddbe7bc"
   },
   "source": [
    "### **5.** *SRTF*"
   ]
  },
  {
   "cell_type": "code",
   "execution_count": null,
   "id": "5b9feb4f-9de8-44f6-9e2f-9fbdc95c8d00",
   "metadata": {
    "id": "5b9feb4f-9de8-44f6-9e2f-9fbdc95c8d00",
    "scrolled": true
   },
   "outputs": [],
   "source": [
    "srtf_chart = []\n",
    "def SRTF(processes, quantum, context_switch):\n",
    "    time = 0\n",
    "    remaining_processes = processes.copy()\n",
    "    queue = []\n",
    "    completed_processes = []\n",
    "    cs = False\n",
    "\n",
    "    while len(completed_processes) < len(processes):\n",
    "        # Add new processes that have arrived at this time\n",
    "        for p in remaining_processes:\n",
    "            if p.arrival_time <= time and p not in queue and p not in completed_processes:\n",
    "                queue.append(p)\n",
    "\n",
    "        if queue:\n",
    "            # Sort the queue by remaining burst time (smallest first)\n",
    "            oldprocess = queue[0]\n",
    "            queue.sort(key=lambda p: p.remaining_time)\n",
    "            process = queue[0]\n",
    "            \n",
    "            if cs:\n",
    "                      time += context_switch / 2\n",
    "                      oldprocess.processed_time = 0\n",
    "                      cs = False\n",
    "                      #print(\"CS1\")\n",
    "            \n",
    "            if process.response_time == -1:\n",
    "                process.response_time = time - process.arrival_time  # First time the process is executed\n",
    "            process.remaining_time -= 1  \n",
    "            process.processed_time += 1\n",
    "\n",
    "            #print(f\"process {process.pid} Excuted for 1ms.\")\n",
    "            #print(f\"remaining_time {process.remaining_time}\")\n",
    "            time += 1\n",
    "            #print(f\"T{time} : P{process.pid} : R{process.remaining_time} : Q{len(queue)} : C{len(completed_processes)} : PT{process.processed_time}\")\n",
    "            srtf_chart.append([process.pid, time-1, time])\n",
    "\n",
    "            if process.remaining_time == 0:\n",
    "                #print(f\"process {process.pid} completed.\")\n",
    "                process.completion_time = time\n",
    "                process.turnaround_time = process.completion_time - process.arrival_time\n",
    "                process.waiting_time = process.turnaround_time - process.burst_time\n",
    "                completed_processes.append(process)\n",
    "                queue.remove(process)\n",
    "                time += context_switch / 2\n",
    "                cs = True\n",
    "                #print(\"CS2\")\n",
    "\n",
    "            if process.processed_time % quantum == 0:\n",
    "              if process.remaining_time != 0:\n",
    "                 time += context_switch / 2\n",
    "                 cs = True\n",
    "\n",
    "        else:\n",
    "            time += 1\n",
    "            #print(\"D\")\n",
    "\n",
    "\n",
    "    return completed_processes"
   ]
  },
  {
   "cell_type": "markdown",
   "id": "2573cce4-4931-4e02-890e-9410bc0d9205",
   "metadata": {
    "id": "2573cce4-4931-4e02-890e-9410bc0d9205"
   },
   "source": [
    "#### Result of algorithm"
   ]
  },
  {
   "cell_type": "code",
   "execution_count": null,
   "id": "856baf0b-2b23-4b69-9c05-afa3978f3cc2",
   "metadata": {
    "id": "856baf0b-2b23-4b69-9c05-afa3978f3cc2"
   },
   "outputs": [],
   "source": [
    "def SRTF_Result(processes, quantum, context_switch):\n",
    "    completed_processes = SRTF(processes, quantum, context_switch)\n",
    "\n",
    "    data = {\n",
    "        'PID': [p.pid for p in completed_processes],\n",
    "        'Arrival Time': [p.arrival_time for p in completed_processes],\n",
    "        'Burst Time': [p.burst_time for p in completed_processes],\n",
    "        'Completion Time': [p.completion_time for p in completed_processes],\n",
    "        'Turnaround Time': [p.turnaround_time for p in completed_processes],\n",
    "        'Waiting Time': [p.waiting_time for p in completed_processes],\n",
    "        'Response Time': [p.response_time for p in completed_processes],\n",
    "    }\n",
    "\n",
    "    df = pd.DataFrame(data)\n",
    "\n",
    "    print(f\"Average_WT is: {df['Waiting Time'].mean()}\")\n",
    "    print(f\"Average_RT is: {df['Response Time'].mean()}\")\n",
    "    print(f\"Average_TT is: {df['Turnaround Time'].mean()}\")\n",
    "\n",
    "\n",
    "    return df"
   ]
  },
  {
   "cell_type": "code",
   "execution_count": null,
   "id": "826546b2-2598-4847-ad8e-aca19c7bae73",
   "metadata": {
    "colab": {
     "base_uri": "https://localhost:8080/"
    },
    "id": "826546b2-2598-4847-ad8e-aca19c7bae73",
    "outputId": "b11f1773-61c3-410a-d593-1d00e4dc47e8"
   },
   "outputs": [],
   "source": [
    "processes = [\n",
    "    Process(1, 1, 6),\n",
    "    Process(2, 7, 10),\n",
    "    Process(3, 9, 2),\n",
    "    Process(4, 25, 3)\n",
    "]\n",
    "srtf_df = SRTF_Result(processes, 5, 2)\n",
    "x_max = srtf_df['Completion Time'].max()\n",
    "y_max = srtf_df['PID'].max()"
   ]
  },
  {
   "cell_type": "code",
   "execution_count": null,
   "id": "38ffe591-e1c8-4fc5-ae38-71595b9e5a65",
   "metadata": {},
   "outputs": [],
   "source": [
    "srtf_df"
   ]
  },
  {
   "cell_type": "code",
   "execution_count": null,
   "id": "QJNajZB_SC16",
   "metadata": {
    "colab": {
     "base_uri": "https://localhost:8080/",
     "height": 607
    },
    "id": "QJNajZB_SC16",
    "outputId": "7e65a645-f0a9-42a4-a9c2-3621e1138732"
   },
   "outputs": [],
   "source": [
    "fig, ax = plt.subplots(figsize=(15, 6))\n",
    "\n",
    "for task in srtf_chart:\n",
    "    y = task[0]\n",
    "    start_time = task[1]\n",
    "    end_time = task[2]\n",
    "    color = get_process_color(y, y_max)\n",
    "    ax.barh(y, end_time - start_time, left=start_time, height=0.5, color=color)\n",
    "\n",
    "ax.set_xlabel('Time')\n",
    "ax.set_ylabel('Process')\n",
    "ax.set_title('SRTF')\n",
    "\n",
    "ax.set_xlim(0, x_max)\n",
    "\n",
    "ax.xaxis.set_major_locator(plt.MultipleLocator(1))\n",
    "ax.grid(True, axis='x', linestyle='--', linewidth=0.7)\n",
    "\n",
    "plt.tight_layout()\n",
    "plt.show()"
   ]
  },
  {
   "cell_type": "markdown",
   "id": "0fa9f379-292e-4364-9bb2-cc62bc1d6981",
   "metadata": {
    "id": "0fa9f379-292e-4364-9bb2-cc62bc1d6981"
   },
   "source": [
    "# ***Run All***"
   ]
  },
  {
   "cell_type": "code",
   "execution_count": null,
   "id": "e882ef7b-4c06-4e2e-9f08-5590470699e7",
   "metadata": {
    "id": "e882ef7b-4c06-4e2e-9f08-5590470699e7"
   },
   "outputs": [],
   "source": [
    "# Function to run all algorithms and collect results\n",
    "\n",
    "def run_all_algorithms(processes):\n",
    "    processes = [\n",
    "    Process(1, 1, 6),\n",
    "    Process(2, 7, 10),\n",
    "    Process(3, 9, 2),\n",
    "    Process(4, 25, 3)\n",
    "]\n",
    "\n",
    "\n",
    "    results = []\n",
    "    algorithms = ['FCFS', 'SPN', 'HRRN', 'RR', 'SRTF']\n",
    "\n",
    "    for algorithm in algorithms:\n",
    "        processes_copy = [Process(p.pid, p.arrival_time, p.burst_time) for p in processes]\n",
    "\n",
    "        if algorithm == 'FCFS':\n",
    "            FCFS(processes_copy, context_switch=2)\n",
    "        elif algorithm == 'SPN':\n",
    "            SPN(processes_copy, context_switch=2)\n",
    "        elif algorithm == 'HRRN':\n",
    "            HRRN(processes_copy, context_switch=2)\n",
    "        elif algorithm == 'RR':\n",
    "            RR(processes_copy, quantum=5, context_switch=2)\n",
    "        elif algorithm == 'SRTF':\n",
    "            SRTF(processes_copy, quantum=5, context_switch=2)\n",
    "\n",
    "\n",
    "        for p in processes_copy:\n",
    "            results.append({\n",
    "                'Algorithm': algorithm,\n",
    "                'PID': p.pid,\n",
    "                'Arrival Time': p.arrival_time,\n",
    "                'Burst Time': p.burst_time,\n",
    "                'Waiting Time': p.waiting_time,\n",
    "                'Response Time': p.response_time,\n",
    "                'Turnaround Time': p.turnaround_time,\n",
    "                'Completion Time': p.completion_time\n",
    "            })\n",
    "\n",
    "\n",
    "    df = pd.DataFrame(results)\n",
    "    return df"
   ]
  },
  {
   "cell_type": "code",
   "execution_count": null,
   "id": "e95e3ce3-4e7b-4c37-9ec4-496a19be1511",
   "metadata": {
    "colab": {
     "base_uri": "https://localhost:8080/",
     "height": 677
    },
    "id": "e95e3ce3-4e7b-4c37-9ec4-496a19be1511",
    "outputId": "c668fa42-341f-404c-9065-a71e86978198"
   },
   "outputs": [],
   "source": [
    "df_results = run_all_algorithms(processes)\n",
    "df_results"
   ]
  },
  {
   "cell_type": "code",
   "execution_count": null,
   "id": "307b9aff-43a2-4438-b239-d6c101aab6d0",
   "metadata": {},
   "outputs": [],
   "source": [
    "avg_df = df_results[['Algorithm', 'Waiting Time', 'Response Time', 'Turnaround Time']].groupby('Algorithm').mean()"
   ]
  },
  {
   "cell_type": "code",
   "execution_count": null,
   "id": "709c8226-b6e5-4526-8aed-bc13d92cd8c0",
   "metadata": {
    "colab": {
     "base_uri": "https://localhost:8080/",
     "height": 206
    },
    "id": "709c8226-b6e5-4526-8aed-bc13d92cd8c0",
    "outputId": "0b251b3a-2dba-4f5a-d38b-bc9df343420d"
   },
   "outputs": [],
   "source": [
    "# Resetting the index to make 'Algorithm' a column\n",
    "avg_df.reset_index(inplace=True)\n",
    "\n",
    "#changing the name of columns\n",
    "avg_df.columns = ['Algorithm', 'AWT', 'ART', 'ATT']\n",
    "\n",
    "avg_df"
   ]
  },
  {
   "cell_type": "code",
   "execution_count": null,
   "id": "5450b4c4-3848-4162-99e3-39371534753c",
   "metadata": {},
   "outputs": [],
   "source": []
  }
 ],
 "metadata": {
  "colab": {
   "provenance": []
  },
  "kernelspec": {
   "display_name": "Python 3 (ipykernel)",
   "language": "python",
   "name": "python3"
  },
  "language_info": {
   "codemirror_mode": {
    "name": "ipython",
    "version": 3
   },
   "file_extension": ".py",
   "mimetype": "text/x-python",
   "name": "python",
   "nbconvert_exporter": "python",
   "pygments_lexer": "ipython3",
   "version": "3.12.3"
  }
 },
 "nbformat": 4,
 "nbformat_minor": 5
}
